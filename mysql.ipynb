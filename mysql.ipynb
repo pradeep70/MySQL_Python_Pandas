{
 "cells": [
  {
   "cell_type": "code",
   "execution_count": 8,
   "metadata": {},
   "outputs": [
    {
     "name": "stdout",
     "output_type": "stream",
     "text": [
      "<mysql.connector.connection.MySQLConnection object at 0x00000208F89FA848>\n",
      "('information_schema',)\n",
      "('mysql',)\n",
      "('performance_schema',)\n",
      "('sakila',)\n",
      "('sys',)\n",
      "('testdb',)\n",
      "('world',)\n"
     ]
    }
   ],
   "source": [
    "import mysql.connector  \n",
    "  \n",
    "con = mysql.connector.connect(host = \"localhost\", user=\"root\",passwd = \"root\",auth_plugin='mysql_native_password')  \n",
    "print(con)  \n",
    "cur = con.cursor()    \n",
    "try:  \n",
    "    dbs = cur.execute(\"show databases\")  \n",
    "except:  \n",
    "    con.rollback()  \n",
    "for x in cur:  \n",
    "    print(x)"
   ]
  },
  {
   "cell_type": "code",
   "execution_count": 9,
   "metadata": {},
   "outputs": [
    {
     "name": "stdout",
     "output_type": "stream",
     "text": [
      "('information_schema',)\n",
      "('mysql',)\n",
      "('performance_schema',)\n",
      "('python',)\n",
      "('sakila',)\n",
      "('sys',)\n",
      "('testdb',)\n",
      "('world',)\n"
     ]
    }
   ],
   "source": [
    "try:  \n",
    "    #creating a new database  \n",
    "    cur.execute(\"create database python\")  \n",
    "  \n",
    "    dbs = cur.execute(\"show databases\")  \n",
    "      \n",
    "except:  \n",
    "    con.rollback()  \n",
    "  \n",
    "for x in cur:  \n",
    "        print(x)"
   ]
  },
  {
   "cell_type": "code",
   "execution_count": 13,
   "metadata": {},
   "outputs": [
    {
     "name": "stdout",
     "output_type": "stream",
     "text": [
      "('Pradeep', 'abc@gmail.com', 26, 2)\n",
      "('Hanu', 'xyz@gmail.com', 9, 4)\n",
      "('sad', 'as@gamail.com', 12, 5)\n"
     ]
    }
   ],
   "source": [
    "try:  \n",
    "    #Reading the Employee data      \n",
    "    cur.execute(\"select * from testdb.users\")  \n",
    "  \n",
    "    #fetching the rows from the cursor object  \n",
    "    result = cur.fetchall()  \n",
    "    #printing the result  \n",
    "      \n",
    "    for x in result:  \n",
    "        print(x);  \n",
    "except:  \n",
    "    con.rollback()  \n",
    "  "
   ]
  },
  {
   "cell_type": "code",
   "execution_count": 15,
   "metadata": {},
   "outputs": [],
   "source": [
    "try:  \n",
    "    #adding a column branch name to the table Employee  \n",
    "    cur.execute(\"alter table testdb.users add agr int(20) not null\")  \n",
    "except:  \n",
    "    con.rollback()  \n"
   ]
  },
  {
   "cell_type": "code",
   "execution_count": 18,
   "metadata": {},
   "outputs": [
    {
     "name": "stdout",
     "output_type": "stream",
     "text": [
      "1 record inserted!\n"
     ]
    }
   ],
   "source": [
    " \n",
    "sql = \"insert into testdb.users(usrname,email,agr) values (%s,%s,%s)\"  \n",
    "  \n",
    "#The row values are provided in the form of tuple   \n",
    "val = (\"John\", \"avx@gmail.com\", 25)  \n",
    "  \n",
    "try:  \n",
    "    #inserting the values into the table  \n",
    "    cur.execute(sql,val)  \n",
    "  \n",
    "    #commit the transaction   \n",
    "    con.commit()  \n",
    "      \n",
    "except:  \n",
    "    con.rollback()  \n",
    "  \n",
    "print(cur.rowcount,\"record inserted!\")  \n",
    "  "
   ]
  },
  {
   "cell_type": "code",
   "execution_count": 20,
   "metadata": {},
   "outputs": [
    {
     "name": "stdout",
     "output_type": "stream",
     "text": [
      "('Pradeep', 'abc@gmail.com', 26, 2)\n",
      "('Hanu', 'xyz@gmail.com', 9, 4)\n",
      "('sad', 'as@gamail.com', 12, 5)\n",
      "('John', 'avx@gmail.com', 25, 6)\n"
     ]
    }
   ],
   "source": [
    "try:  \n",
    "    #Reading the Employee data      \n",
    "    cur.execute(\"select * from testdb.users\")  \n",
    "  \n",
    "    #fetching the rows from the cursor object  \n",
    "    result = cur.fetchall()  \n",
    "    #printing the result  \n",
    "      \n",
    "    for x in result:  \n",
    "        print(x);  \n",
    "except:  \n",
    "    con.rollback()  \n",
    "  "
   ]
  },
  {
   "cell_type": "code",
   "execution_count": null,
   "metadata": {},
   "outputs": [],
   "source": []
  }
 ],
 "metadata": {
  "kernelspec": {
   "display_name": "Python 3",
   "language": "python",
   "name": "python3"
  },
  "language_info": {
   "codemirror_mode": {
    "name": "ipython",
    "version": 3
   },
   "file_extension": ".py",
   "mimetype": "text/x-python",
   "name": "python",
   "nbconvert_exporter": "python",
   "pygments_lexer": "ipython3",
   "version": "3.7.4"
  }
 },
 "nbformat": 4,
 "nbformat_minor": 2
}
